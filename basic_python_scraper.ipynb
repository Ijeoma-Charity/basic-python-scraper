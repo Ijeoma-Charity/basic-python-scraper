{
  "nbformat": 4,
  "nbformat_minor": 0,
  "metadata": {
    "colab": {
      "provenance": []
    },
    "kernelspec": {
      "name": "python3",
      "display_name": "Python 3"
    },
    "language_info": {
      "name": "python"
    }
  },
  "cells": [
    {
      "cell_type": "code",
      "source": [
        "### Basic Web Scraper in Python\n",
        "#This notebook demonstrates how to set up and run a simple web scraper using Pythons 'requests' and 'BeautifulSoup'."
      ],
      "metadata": {
        "id": "rJ_PZHdSuV0z"
      },
      "execution_count": 19,
      "outputs": []
    },
    {
      "cell_type": "code",
      "execution_count": 4,
      "metadata": {
        "id": "XZaatyV8NZJc"
      },
      "outputs": [],
      "source": [
        "import requests\n",
        "from bs4 import BeautifulSoup\n",
        "import pandas as pd"
      ]
    },
    {
      "cell_type": "code",
      "source": [
        "# Send an HTTP request to the webpage\n",
        "\n",
        "#url='https://en.wikipedia.org/wiki/Cloud-computing_comparison'\n",
        "#response = requests.get(url)\n",
        "\n",
        "url = 'https://en.wikipedia.org/wiki/Cloud-computing_comparison'\n",
        "headers = {'User-Agent': 'Mozilla/5.0'}\n",
        "response = requests.get(url, headers=headers)\n",
        "\n",
        "print(\"Status code:\", response.status_code)\n",
        "\n",
        "if response.status_code == 200:\n",
        "  print(\"Request was successful\")\n",
        "else:\n",
        "  print(\"failed to retrieve webpage\")"
      ],
      "metadata": {
        "colab": {
          "base_uri": "https://localhost:8080/"
        },
        "id": "4dZLSKBDOS3h",
        "outputId": "864eb003-dd91-4582-bef8-eb8fe8fca1fd"
      },
      "execution_count": 5,
      "outputs": [
        {
          "output_type": "stream",
          "name": "stdout",
          "text": [
            "Status code: 200\n",
            "Request was successful\n"
          ]
        }
      ]
    },
    {
      "cell_type": "code",
      "source": [
        "# Parse the HTML content\n",
        "soup = BeautifulSoup(response.content, 'html.parser')\n",
        "# Print the title of the webpage to verify\n",
        "print(soup.title.text)"
      ],
      "metadata": {
        "colab": {
          "base_uri": "https://localhost:8080/"
        },
        "id": "LYF00Hj_QOYu",
        "outputId": "03eb413f-2803-499a-acac-d91b3a7b2f7b"
      },
      "execution_count": 6,
      "outputs": [
        {
          "output_type": "stream",
          "name": "stdout",
          "text": [
            "Cloud-computing comparison - Wikipedia\n"
          ]
        }
      ]
    },
    {
      "cell_type": "code",
      "source": [
        "# Find the table containing the data (selecting the first table by default)\n",
        "table = soup.find('table')"
      ],
      "metadata": {
        "id": "DFkqU4f2Q9sp"
      },
      "execution_count": 7,
      "outputs": []
    },
    {
      "cell_type": "code",
      "source": [
        "# Extract table rows\n",
        "rows= table.find_all('tr')"
      ],
      "metadata": {
        "id": "6M3wqLaYSVN0"
      },
      "execution_count": 8,
      "outputs": []
    },
    {
      "cell_type": "code",
      "source": [
        "# Extract headers from the first row (using <th> tags)\n",
        "headers = [header.text.strip() for header in rows[0].find_all('th')]"
      ],
      "metadata": {
        "id": "MCKmfqUyfxj-"
      },
      "execution_count": 9,
      "outputs": []
    },
    {
      "cell_type": "code",
      "source": [
        "# Loop through the rows and extract data (skip the first row with headers)\n",
        "data = []\n",
        "for row in rows[1:]:\n",
        "  cols= row.find_all('td')\n",
        "  cols= [col.text.strip() for col in cols]\n",
        "  data.append(cols)"
      ],
      "metadata": {
        "id": "HGfddWqvgd0i"
      },
      "execution_count": 10,
      "outputs": []
    },
    {
      "cell_type": "code",
      "source": [
        "# Convert the data into a pandas DataFrame, using the extracted headers as column names\n",
        "df = pd.DataFrame(data, columns=headers)"
      ],
      "metadata": {
        "id": "QTt9qyYXBbcg"
      },
      "execution_count": 12,
      "outputs": []
    },
    {
      "cell_type": "code",
      "source": [
        "# Display the first few rows of the DataFrame to verify\n",
        "print(df.head())"
      ],
      "metadata": {
        "colab": {
          "base_uri": "https://localhost:8080/"
        },
        "id": "R1DF8XuoceEe",
        "outputId": "a7361658-57e0-40e4-c8d0-4d4da0b28352"
      },
      "execution_count": 13,
      "outputs": [
        {
          "output_type": "stream",
          "name": "stdout",
          "text": [
            "                      Provider Launched Block storage Assignable IPs  \\\n",
            "0        Google Cloud Platform     2013           Yes             No   \n",
            "1  Oracle Cloud Infrastructure     2014           Yes            Yes   \n",
            "2          Amazon Web Services     2006           Yes            Yes   \n",
            "3                    IBM Cloud     2005           Yes            Yes   \n",
            "4              Microsoft Azure     2010           Yes            Yes   \n",
            "\n",
            "  SMTP support IOPS Guaranteed minimum Security  \\\n",
            "0        No[1]                     Yes   Yes[2]   \n",
            "1          Yes                     Yes   Yes[5]   \n",
            "2   Partial[6]                     Yes   Yes[7]   \n",
            "3        No[9]                     Yes  Yes[10]   \n",
            "4      Yes[11]                     Yes  Yes[12]   \n",
            "\n",
            "                                           Locations             Notes  \n",
            "0  br, ca, cl, us, be, ch, de, es, fi, it, po, nl...  SMTP blocked.[4]  \n",
            "1  us, ca, br, de, uk, nl, ch, in, aus, jp, kr, saud                    \n",
            "2  us, ca, br, ie, de, uk, cn, sg, au, jp, kr, in...   List of bugs[8]  \n",
            "3  us, gb, fr, de, nl, in, au, hk, kr, it, jp, no...                    \n",
            "4  ca, us, br, ie, nl, de, uk, cn, au, jp, in, kr...  List of bugs[13]  \n"
          ]
        }
      ]
    },
    {
      "cell_type": "code",
      "source": [
        "# Save the DataFrame to a CSV file\n",
        "df.to_csv('scraped_data.csv', index=False)"
      ],
      "metadata": {
        "id": "rGwWR-DhcirL"
      },
      "execution_count": 14,
      "outputs": []
    },
    {
      "cell_type": "code",
      "source": [],
      "metadata": {
        "id": "vUG3hdjWdKPA"
      },
      "execution_count": null,
      "outputs": []
    }
  ]
}